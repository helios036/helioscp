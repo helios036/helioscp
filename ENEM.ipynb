{
 "cells": [
  {
   "cell_type": "markdown",
   "id": "65469125-dbea-4cdb-a7af-9fc643db89a4",
   "metadata": {},
   "source": [
    "# Análise dados Enem 2019"
   ]
  },
  {
   "cell_type": "markdown",
   "id": "f88811e5-6c41-4de3-bbc4-d18e59e07d4c",
   "metadata": {},
   "source": [
    "<div style=\"text-align: justify\"> \n",
    "A ideia deste post é elaborar uma análise dos dados do ENEM 2019 utilizando o python. Serão consideradas as notas somente dos alunos que não foram eliminados em nenhuma das 4 provas (Matemática, ciências humanas, ciências da natureza e linguagens e códigos) aplicadas. Feita esta seleção, será feita a análise descritiva dos dados. Serão analisadas as seguintes variáveis:\n",
    "</div>\n",
    "* Sexo;\n",
    "* Tipo de escola (Privada ou Pública);\n",
    "* Notas da prova de ciências da natureza;\n",
    "* Notas da prova de matemática;\n",
    "* Notas da prova de ciências humanas;\n",
    "* Notas da prova de linguagens e códigos"
   ]
  },
  {
   "cell_type": "markdown",
   "id": "a5fe3a66-6cfa-46a4-bb7b-f5d6ad660a4e",
   "metadata": {},
   "source": [
    "# Importação dos dados"
   ]
  },
  {
   "cell_type": "code",
   "execution_count": 1,
   "id": "500023a6-c7a3-4562-b504-e80a1659691d",
   "metadata": {},
   "outputs": [],
   "source": [
    "import pandas as pd"
   ]
  },
  {
   "cell_type": "code",
   "execution_count": 2,
   "id": "eada2752-6346-4db9-a741-134943052fd0",
   "metadata": {},
   "outputs": [],
   "source": [
    "DADOS_ENEM_2019 = pd.read_csv('C:/Users/helio/alura/ENEM/DADOS/DADOS_ENEM_2019.csv', sep = \",\")"
   ]
  },
  {
   "cell_type": "markdown",
   "id": "e6150101-e859-4bd6-8fe9-3a955ad2ae62",
   "metadata": {},
   "source": [
    "## Quantitativo de alunos por sexo"
   ]
  },
  {
   "cell_type": "code",
   "execution_count": 3,
   "id": "6b03a068-ed5b-4513-9d73-b11c709af64e",
   "metadata": {},
   "outputs": [],
   "source": [
    "PERC_DADOS_ENEM_2019_TP_SEXO = DADOS_ENEM_2019['TP_SEXO'].value_counts(normalize = True)"
   ]
  },
  {
   "cell_type": "code",
   "execution_count": 4,
   "id": "7cd8a552-25dd-4959-856a-a4f86a0f99e5",
   "metadata": {},
   "outputs": [],
   "source": [
    "FREQ_DADOS_ENEM_2019_TP_SEXO = DADOS_ENEM_2019['TP_SEXO'].value_counts()"
   ]
  },
  {
   "cell_type": "code",
   "execution_count": 5,
   "id": "52f2cba6-e32d-477f-98d6-68c26bf83a0e",
   "metadata": {},
   "outputs": [],
   "source": [
    "DIST_FREQ_TP_SEXO = pd.DataFrame ({'Frequencia': FREQ_DADOS_ENEM_2019_TP_SEXO, 'Percentual': PERC_DADOS_ENEM_2019_TP_SEXO})"
   ]
  },
  {
   "cell_type": "code",
   "execution_count": 6,
   "id": "903f86c2-d5ba-41bd-9ed4-9293e2915c3b",
   "metadata": {},
   "outputs": [
    {
     "data": {
      "text/html": [
       "<div>\n",
       "<style scoped>\n",
       "    .dataframe tbody tr th:only-of-type {\n",
       "        vertical-align: middle;\n",
       "    }\n",
       "\n",
       "    .dataframe tbody tr th {\n",
       "        vertical-align: top;\n",
       "    }\n",
       "\n",
       "    .dataframe thead th {\n",
       "        text-align: right;\n",
       "    }\n",
       "</style>\n",
       "<table border=\"1\" class=\"dataframe\">\n",
       "  <thead>\n",
       "    <tr style=\"text-align: right;\">\n",
       "      <th></th>\n",
       "      <th>Frequencia</th>\n",
       "      <th>Percentual</th>\n",
       "    </tr>\n",
       "  </thead>\n",
       "  <tbody>\n",
       "    <tr>\n",
       "      <th>Feminino</th>\n",
       "      <td>3031822</td>\n",
       "      <td>0.595027</td>\n",
       "    </tr>\n",
       "    <tr>\n",
       "      <th>Masculino</th>\n",
       "      <td>2063448</td>\n",
       "      <td>0.404973</td>\n",
       "    </tr>\n",
       "  </tbody>\n",
       "</table>\n",
       "</div>"
      ],
      "text/plain": [
       "           Frequencia  Percentual\n",
       "Feminino      3031822    0.595027\n",
       "Masculino     2063448    0.404973"
      ]
     },
     "execution_count": 6,
     "metadata": {},
     "output_type": "execute_result"
    }
   ],
   "source": [
    "DIST_FREQ_TP_SEXO.rename (index = {'M': 'Masculino', 'F': 'Feminino'}, inplace = True)\n",
    "DIST_FREQ_TP_SEXO # Distribuição de frequencia absoluta por sexo"
   ]
  },
  {
   "cell_type": "markdown",
   "id": "46076087-89d0-4a4d-be21-f127f6fae43a",
   "metadata": {},
   "source": [
    "## Quantitativo por tipo de escola"
   ]
  },
  {
   "cell_type": "code",
   "execution_count": 7,
   "id": "85a50f8e-771d-42c9-8f76-38022d16d086",
   "metadata": {},
   "outputs": [],
   "source": [
    "PERC_DADOS_ENEM_2019_TP_ESCOLA = DADOS_ENEM_2019['TP_ESCOLA'].value_counts(normalize = True)"
   ]
  },
  {
   "cell_type": "code",
   "execution_count": 8,
   "id": "6b913daa-98be-4620-aae5-7f1a304dbf65",
   "metadata": {},
   "outputs": [],
   "source": [
    "FREQ_DADOS_ENEM_2019_TP_ESCOLA = DADOS_ENEM_2019['TP_ESCOLA'].value_counts()"
   ]
  },
  {
   "cell_type": "code",
   "execution_count": 9,
   "id": "48e7edfc-c67e-41a2-afb3-85ae406b34c3",
   "metadata": {},
   "outputs": [],
   "source": [
    "DIST_FREQ_TP_ESCOLA = pd.DataFrame ({'Frequencia': FREQ_DADOS_ENEM_2019_TP_ESCOLA, 'Percentual': PERC_DADOS_ENEM_2019_TP_ESCOLA})"
   ]
  },
  {
   "cell_type": "code",
   "execution_count": 10,
   "id": "0c2e6ae1-d3c9-406e-b9ef-f1e0a0a81f96",
   "metadata": {},
   "outputs": [
    {
     "data": {
      "text/html": [
       "<div>\n",
       "<style scoped>\n",
       "    .dataframe tbody tr th:only-of-type {\n",
       "        vertical-align: middle;\n",
       "    }\n",
       "\n",
       "    .dataframe tbody tr th {\n",
       "        vertical-align: top;\n",
       "    }\n",
       "\n",
       "    .dataframe thead th {\n",
       "        text-align: right;\n",
       "    }\n",
       "</style>\n",
       "<table border=\"1\" class=\"dataframe\">\n",
       "  <thead>\n",
       "    <tr style=\"text-align: right;\">\n",
       "      <th></th>\n",
       "      <th>Frequencia</th>\n",
       "      <th>Percentual</th>\n",
       "    </tr>\n",
       "  </thead>\n",
       "  <tbody>\n",
       "    <tr>\n",
       "      <th>Não_resp</th>\n",
       "      <td>3629376</td>\n",
       "      <td>0.712303</td>\n",
       "    </tr>\n",
       "    <tr>\n",
       "      <th>Publica</th>\n",
       "      <td>1247262</td>\n",
       "      <td>0.244788</td>\n",
       "    </tr>\n",
       "    <tr>\n",
       "      <th>Privada</th>\n",
       "      <td>218632</td>\n",
       "      <td>0.042909</td>\n",
       "    </tr>\n",
       "  </tbody>\n",
       "</table>\n",
       "</div>"
      ],
      "text/plain": [
       "          Frequencia  Percentual\n",
       "Não_resp     3629376    0.712303\n",
       "Publica      1247262    0.244788\n",
       "Privada       218632    0.042909"
      ]
     },
     "execution_count": 10,
     "metadata": {},
     "output_type": "execute_result"
    }
   ],
   "source": [
    "DIST_FREQ_TP_ESCOLA.rename (index = {1: 'Não_resp', 2: 'Publica', 3: 'Privada', 4: 'Exterior' }, inplace = True)\n",
    "DIST_FREQ_TP_ESCOLA # Distribuição de frequencia por tipo de escola"
   ]
  },
  {
   "cell_type": "markdown",
   "id": "53fee714-6bf4-4fea-aca5-4a05e30ec068",
   "metadata": {},
   "source": [
    "## Neste item foi feita uma tabela cruzada em relação ao tipo de escola (privada ou publica) e o sexo do aluno."
   ]
  },
  {
   "cell_type": "code",
   "execution_count": 11,
   "id": "3528d0ed-23d3-485d-a4fc-cd5a0c5ec4ef",
   "metadata": {},
   "outputs": [],
   "source": [
    "TP_ESCOLA = {1: 'Não_resp', 2: 'Publica', 3: 'Privada'}\n",
    "SX = {'M': 'Masculino', 'F': 'Feminino'}"
   ]
  },
  {
   "cell_type": "code",
   "execution_count": 12,
   "id": "51fa9e40-bc4a-4415-8494-a6887e5adffa",
   "metadata": {},
   "outputs": [
    {
     "data": {
      "text/html": [
       "<div>\n",
       "<style scoped>\n",
       "    .dataframe tbody tr th:only-of-type {\n",
       "        vertical-align: middle;\n",
       "    }\n",
       "\n",
       "    .dataframe tbody tr th {\n",
       "        vertical-align: top;\n",
       "    }\n",
       "\n",
       "    .dataframe thead th {\n",
       "        text-align: right;\n",
       "    }\n",
       "</style>\n",
       "<table border=\"1\" class=\"dataframe\">\n",
       "  <thead>\n",
       "    <tr style=\"text-align: right;\">\n",
       "      <th>TP_ESCOLA</th>\n",
       "      <th>Não_resp</th>\n",
       "      <th>Publica</th>\n",
       "      <th>Privada</th>\n",
       "    </tr>\n",
       "    <tr>\n",
       "      <th>TP_SEXO</th>\n",
       "      <th></th>\n",
       "      <th></th>\n",
       "      <th></th>\n",
       "    </tr>\n",
       "  </thead>\n",
       "  <tbody>\n",
       "    <tr>\n",
       "      <th>Feminino</th>\n",
       "      <td>2176591</td>\n",
       "      <td>738298</td>\n",
       "      <td>116933</td>\n",
       "    </tr>\n",
       "    <tr>\n",
       "      <th>Masculino</th>\n",
       "      <td>1452785</td>\n",
       "      <td>508964</td>\n",
       "      <td>101699</td>\n",
       "    </tr>\n",
       "  </tbody>\n",
       "</table>\n",
       "</div>"
      ],
      "text/plain": [
       "TP_ESCOLA  Não_resp  Publica  Privada\n",
       "TP_SEXO                              \n",
       "Feminino    2176591   738298   116933\n",
       "Masculino   1452785   508964   101699"
      ]
     },
     "execution_count": 12,
     "metadata": {},
     "output_type": "execute_result"
    }
   ],
   "source": [
    "DIST_CRUZ_TP_ESC_SX = pd.crosstab (DADOS_ENEM_2019.TP_SEXO, DADOS_ENEM_2019.TP_ESCOLA)\n",
    "DIST_CRUZ_TP_ESC_SX.rename(index = SX, inplace = True)\n",
    "DIST_CRUZ_TP_ESC_SX.rename(columns = TP_ESCOLA, inplace = True)\n",
    "DIST_CRUZ_TP_ESC_SX"
   ]
  },
  {
   "cell_type": "markdown",
   "id": "167e4b5c-88e4-4438-994f-7decc3a5e3fd",
   "metadata": {},
   "source": [
    "### Dados Quantitativos - Demonstrar as notas minimas e máximas de cada prova"
   ]
  },
  {
   "cell_type": "code",
   "execution_count": 13,
   "id": "7763f1de-d286-43bc-aada-98ef18d7b766",
   "metadata": {},
   "outputs": [
    {
     "name": "stdout",
     "output_type": "stream",
     "text": [
      "860.9\n",
      "835.1\n",
      "985.5\n",
      "801.7\n",
      "0.0\n",
      "0.0\n",
      "0.0\n",
      "0.0\n"
     ]
    }
   ],
   "source": [
    "print(DADOS_ENEM_2019.NU_NOTA_CN.max())\n",
    "print(DADOS_ENEM_2019.NU_NOTA_CH.max())\n",
    "print(DADOS_ENEM_2019.NU_NOTA_MT.max())\n",
    "print(DADOS_ENEM_2019.NU_NOTA_LC.max())\n",
    "print(DADOS_ENEM_2019.NU_NOTA_CN.min())\n",
    "print(DADOS_ENEM_2019.NU_NOTA_CH.min())\n",
    "print(DADOS_ENEM_2019.NU_NOTA_MT.min())\n",
    "print(DADOS_ENEM_2019.NU_NOTA_LC.min())"
   ]
  },
  {
   "cell_type": "code",
   "execution_count": 14,
   "id": "1697b2e2-13f1-4cb0-bf62-afbadcb8c61f",
   "metadata": {},
   "outputs": [],
   "source": [
    "classes = [0, 215, 430, 645, 861] # Construção das classes para apuração das notas de ciencia da natureza"
   ]
  },
  {
   "cell_type": "code",
   "execution_count": 15,
   "id": "c189e7c5-df51-40d6-affb-354cfa4fdd0b",
   "metadata": {},
   "outputs": [],
   "source": [
    "labels = ['Baixo', 'Regular baixo', 'Regular Superior', 'Superior'] # Construção dos rotulos para apuração das notas de ciencia da natureza"
   ]
  },
  {
   "cell_type": "code",
   "execution_count": 16,
   "id": "ddfcb660-3a93-42cd-8b7a-e886d03dcd98",
   "metadata": {},
   "outputs": [],
   "source": [
    "PARTIC_ENEM_2019 = DADOS_ENEM_2019[(DADOS_ENEM_2019[\"TP_PRESENCA_CN\"] == 1) & (DADOS_ENEM_2019[\"TP_PRESENCA_CH\"] == 1) & (DADOS_ENEM_2019[\"TP_PRESENCA_LC\"] == 1) & (DADOS_ENEM_2019[\"TP_PRESENCA_MT\"] == 1)]"
   ]
  },
  {
   "cell_type": "code",
   "execution_count": 17,
   "id": "95a204d2-d657-48d1-9e94-1b58e0c40ac0",
   "metadata": {},
   "outputs": [
    {
     "data": {
      "text/plain": [
       "Regular Superior    2493479\n",
       "Regular baixo       1146406\n",
       "Superior              61661\n",
       "Baixo                   462\n",
       "Name: NU_NOTA_CN, dtype: int64"
      ]
     },
     "execution_count": 17,
     "metadata": {},
     "output_type": "execute_result"
    }
   ],
   "source": [
    "frequencia_cn = pd.value_counts (\n",
    "    pd.cut (x = PARTIC_ENEM_2019.NU_NOTA_CN,\n",
    "         bins = classes,\n",
    "         labels = labels,\n",
    "         include_lowest = True)\n",
    ")\n",
    "frequencia_cn # tabela de frequencia com as classes para as notas de ciencias da natureza"
   ]
  },
  {
   "cell_type": "code",
   "execution_count": 18,
   "id": "e8e5d463-88c5-4c46-aa4f-a620007ce7de",
   "metadata": {},
   "outputs": [
    {
     "data": {
      "text/plain": [
       "Regular Superior    2883572\n",
       "Regular baixo        667468\n",
       "Superior             148419\n",
       "Baixo                  2549\n",
       "Name: NU_NOTA_CH, dtype: int64"
      ]
     },
     "execution_count": 18,
     "metadata": {},
     "output_type": "execute_result"
    }
   ],
   "source": [
    "frequencia_ch = pd.value_counts (\n",
    "    pd.cut (x = PARTIC_ENEM_2019.NU_NOTA_CH,\n",
    "         bins = classes,\n",
    "         labels = labels,\n",
    "         include_lowest = True)\n",
    ")\n",
    "frequencia_ch # tabela de frequencia com as classes para as notas de ciencias humanas"
   ]
  },
  {
   "cell_type": "code",
   "execution_count": 19,
   "id": "9f7efa6d-5f54-4591-9248-55f7a98fddd5",
   "metadata": {},
   "outputs": [
    {
     "data": {
      "text/plain": [
       "Regular Superior    3344715\n",
       "Regular baixo        317524\n",
       "Superior              38631\n",
       "Baixo                  1138\n",
       "Name: NU_NOTA_LC, dtype: int64"
      ]
     },
     "execution_count": 19,
     "metadata": {},
     "output_type": "execute_result"
    }
   ],
   "source": [
    "frequencia_lc = pd.value_counts (\n",
    "    pd.cut (x = PARTIC_ENEM_2019.NU_NOTA_LC,\n",
    "         bins = classes,\n",
    "         labels = labels,\n",
    "         include_lowest = True)\n",
    ")\n",
    "frequencia_lc # tabela de frequencia com as classes para as notas de linguagens e códigos"
   ]
  },
  {
   "cell_type": "code",
   "execution_count": 20,
   "id": "79ae935c-4b9c-475f-a6cc-e5dd8ecbac4e",
   "metadata": {},
   "outputs": [
    {
     "data": {
      "text/plain": [
       "Regular Superior    2282743\n",
       "Regular baixo        844924\n",
       "Superior             563167\n",
       "Baixo                   624\n",
       "Name: NU_NOTA_MT, dtype: int64"
      ]
     },
     "execution_count": 20,
     "metadata": {},
     "output_type": "execute_result"
    }
   ],
   "source": [
    "frequencia_mt = pd.value_counts (\n",
    "    pd.cut (x = PARTIC_ENEM_2019.NU_NOTA_MT,\n",
    "         bins = classes,\n",
    "         labels = labels,\n",
    "         include_lowest = True)\n",
    ")\n",
    "frequencia_mt # tabela de frequencia com as classes para as notas de Matemática"
   ]
  },
  {
   "cell_type": "markdown",
   "id": "dc2a056d-dd49-41bd-86d4-3a1603d0776e",
   "metadata": {},
   "source": [
    "# Elaboração do histograma das notas"
   ]
  },
  {
   "cell_type": "code",
   "execution_count": 21,
   "id": "e94c7549-37ae-49d5-a68e-529a8fc4a411",
   "metadata": {},
   "outputs": [],
   "source": [
    "import seaborn as sns"
   ]
  },
  {
   "cell_type": "code",
   "execution_count": 22,
   "id": "eac7e5e8-7b0c-47b7-90c9-3bc3d6c2f43f",
   "metadata": {},
   "outputs": [],
   "source": [
    "import matplotlib.pyplot as plt"
   ]
  },
  {
   "cell_type": "code",
   "execution_count": 23,
   "id": "8cb9e144-c5ee-4d49-9c11-60c3ba659aa3",
   "metadata": {},
   "outputs": [
    {
     "data": {
      "image/png": "[encoded data removed]",
      "text/plain": [
       "<Figure size 1800x1080 with 4 Axes>"
      ]
     },
     "metadata": {
      "needs_background": "light"
     },
     "output_type": "display_data"
    }
   ],
   "source": [
    "fig_hist, axes = plt.subplots(2, 2, figsize=(25, 15), sharey=True)\n",
    "fig_hist.suptitle('Histograma de distribuição das notas por prova', fontsize = 16)\n",
    "\n",
    "hist_cn = sns.histplot(ax = axes[0,0], data = PARTIC_ENEM_2019, x = \"NU_NOTA_CN\", kde = True, bins = 30)\n",
    "hist_cn.set_title('Ciências Natureza', fontsize = 14)\n",
    "hist_cn.set_label('Notas')\n",
    "axes[0,0]\n",
    "\n",
    "hist_ch = sns.histplot(ax = axes[0,1], data = PARTIC_ENEM_2019, x = \"NU_NOTA_CH\", kde = True, bins = 30)\n",
    "hist_ch.set_title('Ciências Humanas', fontsize = 14)\n",
    "hist_ch.set_label('Notas')\n",
    "axes[0,1]\n",
    "\n",
    "hist_lc = sns.histplot(ax = axes[1,0], data = PARTIC_ENEM_2019, x = \"NU_NOTA_LC\", kde = True, bins = 30)\n",
    "hist_lc.set_title('Linguagens e códigos', fontsize = 14)\n",
    "hist_lc.set_label('Notas')\n",
    "axes[1,0]\n",
    "\n",
    "hist_mt = sns.histplot(ax = axes[1,1], data = PARTIC_ENEM_2019, x = \"NU_NOTA_MT\", kde = True, bins = 30)\n",
    "hist_mt.set_title('Matemática', fontsize = 14)\n",
    "hist_mt.set_label('Notas')\n",
    "axes[1,1]\n",
    "\n",
    "fig_hist.savefig('fig_hist.jpeg')"
   ]
  },
  {
   "cell_type": "markdown",
   "id": "96afbad0-f535-42ad-a378-88cfbf528dd4",
   "metadata": {},
   "source": [
    "# Médias por grupos"
   ]
  },
  {
   "cell_type": "code",
   "execution_count": 24,
   "id": "825b4368-e567-4c3a-8846-3dcc657ca099",
   "metadata": {},
   "outputs": [
    {
     "data": {
      "text/plain": [
       "TP_ESCOLA\n",
       "1    522.794852\n",
       "2    504.313977\n",
       "3    619.791815\n",
       "Name: NU_NOTA_MT, dtype: float64"
      ]
     },
     "execution_count": 24,
     "metadata": {},
     "output_type": "execute_result"
    }
   ],
   "source": [
    "PARTIC_ENEM_2019.groupby(['TP_ESCOLA'])['NU_NOTA_MT'].mean() # Media por tipo de escola"
   ]
  },
  {
   "cell_type": "code",
   "execution_count": 25,
   "id": "9075fa4a-7c59-45b9-8bde-f5161e0d16d3",
   "metadata": {},
   "outputs": [
    {
     "data": {
      "text/plain": [
       "TP_ESCOLA\n",
       "1    500.7\n",
       "2    485.2\n",
       "3    628.9\n",
       "Name: NU_NOTA_MT, dtype: float64"
      ]
     },
     "execution_count": 25,
     "metadata": {},
     "output_type": "execute_result"
    }
   ],
   "source": [
    "PARTIC_ENEM_2019.groupby(['TP_ESCOLA'])['NU_NOTA_MT'].median() # Mediana por tipo de escola"
   ]
  },
  {
   "cell_type": "code",
   "execution_count": 26,
   "id": "49b92b73-e69d-431e-9d7a-aff170098aa4",
   "metadata": {},
   "outputs": [],
   "source": [
    "# Percentis por grupos"
   ]
  },
  {
   "cell_type": "code",
   "execution_count": 27,
   "id": "3731d4d4-1bf8-466d-98d1-eb82ff5232e5",
   "metadata": {},
   "outputs": [
    {
     "data": {
      "text/plain": [
       "TP_ESCOLA      \n",
       "1          0.25    419.7\n",
       "           0.50    472.4\n",
       "           0.75    534.6\n",
       "2          0.25    407.8\n",
       "           0.50    452.9\n",
       "           0.75    509.5\n",
       "3          0.25    492.4\n",
       "           0.50    551.6\n",
       "           0.75    592.9\n",
       "Name: NU_NOTA_CN, dtype: float64"
      ]
     },
     "execution_count": 27,
     "metadata": {},
     "output_type": "execute_result"
    }
   ],
   "source": [
    "PARTIC_ENEM_2019.groupby(['TP_ESCOLA'])['NU_NOTA_CN'].quantile([0.25, 0.5, 0.75]) # Percentis conforme evolução da nota de matematica"
   ]
  },
  {
   "cell_type": "code",
   "execution_count": null,
   "id": "da5386c2-c2d5-4ff5-a6cb-6555ecd4190f",
   "metadata": {},
   "outputs": [],
   "source": []
  },
  {
   "cell_type": "code",
   "execution_count": 28,
   "id": "809ba5c6-5407-4c13-bc5c-6816d8b3ff24",
   "metadata": {},
   "outputs": [
    {
     "data": {
      "text/plain": [
       "0.01    344.9\n",
       "0.02    352.2\n",
       "0.03    357.8\n",
       "0.04    362.6\n",
       "0.05    366.8\n",
       "        ...  \n",
       "0.95    608.6\n",
       "0.96    616.4\n",
       "0.97    626.0\n",
       "0.98    639.1\n",
       "0.99    661.6\n",
       "Name: NU_NOTA_CN, Length: 99, dtype: float64"
      ]
     },
     "execution_count": 28,
     "metadata": {},
     "output_type": "execute_result"
    }
   ],
   "source": [
    "PARTIC_ENEM_2019.NU_NOTA_CN.quantile([i/100 for i in range (1,100)])"
   ]
  },
  {
   "cell_type": "code",
   "execution_count": 29,
   "id": "082d2d60-da7b-4e60-9764-8dae59f0addc",
   "metadata": {},
   "outputs": [],
   "source": [
    "# Box-plot notas ciencia da natureza (dados populacionais) para notas maioroes que zero"
   ]
  },
  {
   "cell_type": "markdown",
   "id": "b5e9dd81-4dac-42fd-92f3-9bff7459772a",
   "metadata": {},
   "source": [
    "Neste item foi aplicado este filtro para eliminar os candidados faltantes. É importante destacar que para aplicação de testes estatísticos é necessária uma seleção de amostra aleatoria para realização de tais testes.  "
   ]
  },
  {
   "cell_type": "code",
   "execution_count": 30,
   "id": "fd486630-56cb-46fa-8f8d-7e78d741da2a",
   "metadata": {},
   "outputs": [
    {
     "data": {
      "text/plain": [
       "<AxesSubplot:label='Notas', title={'center':'Box Plot - Notas'}, xlabel='NU_NOTA_CN', ylabel='TP_SEXO'>"
      ]
     },
     "execution_count": 30,
     "metadata": {},
     "output_type": "execute_result"
    },
    {
     "data": {
      "image/png": "[encoded data removed]",
      "text/plain": [
       "<Figure size 864x432 with 1 Axes>"
      ]
     },
     "metadata": {
      "needs_background": "light"
     },
     "output_type": "display_data"
    }
   ],
   "source": [
    "ax = sns.boxplot (x = 'NU_NOTA_CN', y = 'TP_SEXO', data = PARTIC_ENEM_2019.query('NU_NOTA_CN > 1'))\n",
    "ax.figure.set_size_inches(12, 6)\n",
    "ax.set_title('Box Plot - Notas', fontsize = 18)\n",
    "ax.set_label('Notas')\n",
    "ax"
   ]
  },
  {
   "cell_type": "code",
   "execution_count": 31,
   "id": "d447b085-a5a8-4b2a-bd00-fa00db7466f4",
   "metadata": {},
   "outputs": [
    {
     "data": {
      "text/plain": [
       "TP_ESCOLA\n",
       "1    11973.713898\n",
       "2     9019.013025\n",
       "3    13740.225609\n",
       "Name: NU_NOTA_MT, dtype: float64"
      ]
     },
     "execution_count": 31,
     "metadata": {},
     "output_type": "execute_result"
    }
   ],
   "source": [
    "PARTIC_ENEM_2019.groupby(['TP_ESCOLA'])['NU_NOTA_MT'].var()"
   ]
  },
  {
   "cell_type": "code",
   "execution_count": 32,
   "id": "488f1ee3-4d8c-4269-90d6-222437a2acc5",
   "metadata": {},
   "outputs": [
    {
     "data": {
      "text/plain": [
       "TP_ESCOLA\n",
       "1    0.209307\n",
       "2    0.188312\n",
       "3    0.189126\n",
       "Name: NU_NOTA_MT, dtype: float64"
      ]
     },
     "execution_count": 32,
     "metadata": {},
     "output_type": "execute_result"
    }
   ],
   "source": [
    "PARTIC_ENEM_2019.groupby(['TP_ESCOLA'])['NU_NOTA_MT'].std()/PARTIC_ENEM_2019.groupby(['TP_ESCOLA'])['NU_NOTA_MT'].mean() # Coeficiente de variação"
   ]
  },
  {
   "cell_type": "markdown",
   "id": "64e02961-b07f-40f1-9e4a-daab7a5efd83",
   "metadata": {},
   "source": [
    "# Diferença na media das notas por sexo "
   ]
  },
  {
   "cell_type": "markdown",
   "id": "63729b0b-310d-4440-8b73-c6d64e0c7ffc",
   "metadata": {},
   "source": [
    "## Teste de normalidade"
   ]
  },
  {
   "cell_type": "markdown",
   "id": "6ac14cfb-4b3c-4efd-9a04-646421521584",
   "metadata": {},
   "source": [
    "<div style=\"text-align: justify\"> \n",
    "Serão analisadas as notas das 4 provas. Inicialmente, será executado os testes de Shapiro-Wilk e Anderson-Darling para verificar se as notas seguem uma distribuição normal. Para isso será selecionada uma amostra aleatoria com 100 notas de cada prova. \n",
    "</div>"
   ]
  },
  {
   "cell_type": "code",
   "execution_count": 33,
   "id": "cc0de821-8adc-456c-9290-2fba784d2101",
   "metadata": {},
   "outputs": [],
   "source": [
    "from scipy.stats import normaltest"
   ]
  },
  {
   "cell_type": "code",
   "execution_count": 34,
   "id": "5f4ebdc1-1f89-4a94-99dc-8ddbdf9b8ebb",
   "metadata": {},
   "outputs": [],
   "source": [
    "import scipy.stats as stats"
   ]
  },
  {
   "cell_type": "code",
   "execution_count": 35,
   "id": "9d69a460-fed5-4b1d-9bbc-b1d72f523d5b",
   "metadata": {},
   "outputs": [],
   "source": [
    "significancia = 0.05 # Probabilidade do teste dar errado"
   ]
  },
  {
   "cell_type": "code",
   "execution_count": 36,
   "id": "2ea1a597-6dfc-415b-8731-3aa8940867cd",
   "metadata": {},
   "outputs": [],
   "source": [
    "AMOSTRA_ENEM = PARTIC_ENEM_2019.sample(n = 100) # É importante destacar que amostras muito grandes podem inviabilizar a aplicação de testes estatisticos. "
   ]
  },
  {
   "cell_type": "code",
   "execution_count": 37,
   "id": "85b4c10e-bd98-45a6-ac2c-cf209c647918",
   "metadata": {},
   "outputs": [
    {
     "name": "stdout",
     "output_type": "stream",
     "text": [
      "0.9417704343795776 0.0002476224326528609\n",
      "0.9879064559936523 0.5013339519500732\n",
      "0.9738855361938477 0.04415387660264969\n",
      "0.9721224308013916 0.032205160707235336\n"
     ]
    }
   ],
   "source": [
    "stat_test_sw_MT, p_valor_sw_MT = stats.shapiro(AMOSTRA_ENEM.NU_NOTA_MT)\n",
    "stat_test_sw_CH, p_valor_sw_CH = stats.shapiro(AMOSTRA_ENEM.NU_NOTA_CH)\n",
    "stat_test_sw_LC, p_valor_sw_LC = stats.shapiro(AMOSTRA_ENEM.NU_NOTA_LC)\n",
    "stat_test_sw_CN, p_valor_sw_CN = stats.shapiro(AMOSTRA_ENEM.NU_NOTA_CN)\n",
    "print(stat_test_sw_MT, p_valor_sw_MT)\n",
    "print(stat_test_sw_CH, p_valor_sw_CH)\n",
    "print(stat_test_sw_LC, p_valor_sw_LC)\n",
    "print(stat_test_sw_CN, p_valor_sw_CN)"
   ]
  },
  {
   "cell_type": "markdown",
   "id": "b37413ed-ce22-481c-9441-a41f7734b19d",
   "metadata": {},
   "source": [
    "<div style=\"text-align: justify\"> \n",
    "Além dos testes estatisticos, é necessário verificar as medidas descritivas da amostra para identificar as caracteristicas da distribuição normal. Para isso, tem que ser analisado se a mediana está próxima a media, verificar se a distribuição das notas é assimétrica e se não apresenta curtose.\n",
    "</div>"
   ]
  },
  {
   "cell_type": "markdown",
   "id": "e89f66b2-8106-4cd6-9955-2b30656ccb0c",
   "metadata": {},
   "source": [
    "## Assimetria"
   ]
  },
  {
   "cell_type": "code",
   "execution_count": 38,
   "id": "65b278bd-0c8b-452e-9e57-e8d440c5bb7e",
   "metadata": {},
   "outputs": [
    {
     "name": "stdout",
     "output_type": "stream",
     "text": [
      "0.7667831880355336\n",
      "0.18006844853964743\n",
      "-0.5907801631480342\n",
      "0.3791780932648879\n"
     ]
    }
   ],
   "source": [
    "print(stats.skew(AMOSTRA_ENEM.NU_NOTA_MT))\n",
    "print(stats.skew(AMOSTRA_ENEM.NU_NOTA_CH))\n",
    "print(stats.skew(AMOSTRA_ENEM.NU_NOTA_LC))\n",
    "print(stats.skew(AMOSTRA_ENEM.NU_NOTA_CN))"
   ]
  },
  {
   "cell_type": "markdown",
   "id": "7ef0ae4e-6a70-4028-b202-1834a66f382f",
   "metadata": {},
   "source": [
    "Caso os coeficientes de assimetria apresentem resultados positivos, significa que tem-se uma assimetria positiva. Logo, seus valores apresentam uma média superior à mediana. Além disso, há uma concentração maior de valores na parte direita do histograma.\n",
    "Caso os coeficientes de assimetria apresentem resultados negativos, significa que tem-se uma assimetria negativa. Logo, seus valores apresentam uma média inferior à mediana. Além disso, há uma concentração maior de valores na parte esquerda do histograma. De todo modo, os resultados apresentados nos testes evidenciam uma aproximação proxima a zero, quando isto acontece há evidencias de que a amostra selecionada segue uma distribuição normal. "
   ]
  },
  {
   "cell_type": "markdown",
   "id": "06212c0a-ef35-43b5-85ef-6001ec52584e",
   "metadata": {},
   "source": [
    "## Curtose"
   ]
  },
  {
   "cell_type": "code",
   "execution_count": 39,
   "id": "c684414c-54fb-4952-aaa7-8b4c2aca01f2",
   "metadata": {},
   "outputs": [
    {
     "name": "stdout",
     "output_type": "stream",
     "text": [
      "0.02136876344609817\n",
      "-0.3058666456611068\n",
      "0.5556193188765226\n",
      "-0.39488148558547076\n"
     ]
    }
   ],
   "source": [
    "print(stats.kurtosis(AMOSTRA_ENEM.NU_NOTA_MT, fisher = True))\n",
    "print(stats.kurtosis(AMOSTRA_ENEM.NU_NOTA_CH, fisher = True))\n",
    "print(stats.kurtosis(AMOSTRA_ENEM.NU_NOTA_LC, fisher = True))\n",
    "print(stats.kurtosis(AMOSTRA_ENEM.NU_NOTA_CN, fisher = True))"
   ]
  },
  {
   "cell_type": "markdown",
   "id": "8ef5e205-4f71-4c1f-9f02-2048e6660fb9",
   "metadata": {},
   "source": [
    "As medidas de curtose apresentando valores próximos a zero demonstram que as amostras coletadas seguem uma distribuição normal. Entretanto, os resultados dos testes de normalidade para as notas de ciencia da natureza e de matemática não seguiriam uma distribuição normal. Para fins deste post, vamos considerar que as notas de matematica e de ciencas da natureza seguem uma distribuição normal por conta das caracteristicas encontradas nas medidas descritivas. Porém, seria interessante aplicar testes não parametricos para avaliar melhor este grupo de notas. "
   ]
  },
  {
   "cell_type": "code",
   "execution_count": 40,
   "id": "6270d267-986e-42c7-bf84-36fb1c710d4b",
   "metadata": {},
   "outputs": [
    {
     "data": {
      "image/png": "[encoded data removed]",
      "text/plain": [
       "<Figure size 1800x1080 with 4 Axes>"
      ]
     },
     "metadata": {
      "needs_background": "light"
     },
     "output_type": "display_data"
    }
   ],
   "source": [
    "fig_hist_am, axes = plt.subplots(2, 2, figsize=(25, 15), sharey=True)\n",
    "fig_hist_am.suptitle('Histograma de distribuição das notas da amostra', fontsize = 16)\n",
    "\n",
    "hist_cn_am = sns.histplot(ax = axes[0,0], data = AMOSTRA_ENEM, x = \"NU_NOTA_CN\", kde = True, bins = 30)\n",
    "hist_cn_am.set_title('Ciências Natureza', fontsize = 14)\n",
    "hist_cn.set_label('Notas')\n",
    "axes[0,0]\n",
    "\n",
    "hist_ch_am = sns.histplot(ax = axes[0,1], data = AMOSTRA_ENEM, x = \"NU_NOTA_CH\", kde = True, bins = 30)\n",
    "hist_ch_am.set_title('Ciências Humanas', fontsize = 14)\n",
    "hist_ch_am.set_label('Notas')\n",
    "axes[0,1]\n",
    "\n",
    "hist_lc_am = sns.histplot(ax = axes[1,0], data = AMOSTRA_ENEM, x = \"NU_NOTA_LC\", kde = True, bins = 30)\n",
    "hist_lc_am.set_title('Linguagens e códigos', fontsize = 14)\n",
    "hist_lc_am.set_label('Notas')\n",
    "axes[1,0]\n",
    "\n",
    "hist_mt_am = sns.histplot(ax = axes[1,1], data = AMOSTRA_ENEM, x = \"NU_NOTA_MT\", kde = True, bins = 30)\n",
    "hist_mt_am.set_title('Matemática', fontsize = 14)\n",
    "hist_mt_am.set_label('Notas')\n",
    "axes[1,1]\n",
    "\n",
    "fig_hist_am.savefig('fig_hist.jpeg')"
   ]
  },
  {
   "cell_type": "markdown",
   "id": "f2755736-996b-49df-a59d-4518ba4759cb",
   "metadata": {},
   "source": [
    "## Testes de variância"
   ]
  },
  {
   "cell_type": "code",
   "execution_count": 41,
   "id": "63488bad-acd0-4337-8b44-cec7bcab0c15",
   "metadata": {},
   "outputs": [],
   "source": [
    "from scipy.stats import levene"
   ]
  },
  {
   "cell_type": "code",
   "execution_count": 42,
   "id": "8a1cf60c-9f5f-47a6-bfd3-c3235b0ffe32",
   "metadata": {},
   "outputs": [],
   "source": [
    "import numpy as np\n",
    "import pingouin as pg"
   ]
  },
  {
   "cell_type": "code",
   "execution_count": 43,
   "id": "52394456-2b31-4b88-8800-629049c25f9c",
   "metadata": {},
   "outputs": [
    {
     "name": "stderr",
     "output_type": "stream",
     "text": [
      "C:\\Users\\helio\\anaconda3\\lib\\site-packages\\outdated\\utils.py:14: OutdatedPackageWarning: The package pingouin is out of date. Your version is 0.3.12, the latest is 0.4.0.\n",
      "Set the environment variable OUTDATED_IGNORE=1 to disable these warnings.\n",
      "  return warn(\n"
     ]
    }
   ],
   "source": [
    "levene_cn = pg.homoscedasticity(AMOSTRA_ENEM, dv=\"NU_NOTA_CN\", group=\"TP_SEXO\", method='levene', alpha=0.05)\n",
    "levene_ch = pg.homoscedasticity(AMOSTRA_ENEM, dv=\"NU_NOTA_CH\", group=\"TP_SEXO\", method='levene', alpha=0.05)\n",
    "levene_lc = pg.homoscedasticity(AMOSTRA_ENEM, dv=\"NU_NOTA_LC\", group=\"TP_SEXO\", method='levene', alpha=0.05)\n",
    "levene_mt = pg.homoscedasticity(AMOSTRA_ENEM, dv=\"NU_NOTA_MT\", group=\"TP_SEXO\", method='levene', alpha=0.05)"
   ]
  },
  {
   "cell_type": "code",
   "execution_count": 44,
   "id": "3093f39f-d945-4352-bb94-9c693b97f701",
   "metadata": {},
   "outputs": [
    {
     "name": "stdout",
     "output_type": "stream",
     "text": [
      "               W    pval  equal_var\n",
      "levene  0.564884  0.4541       True\n",
      "               W      pval  equal_var\n",
      "levene  5.007976  0.027495      False\n",
      "               W      pval  equal_var\n",
      "levene  1.671366  0.199115       True\n",
      "               W      pval  equal_var\n",
      "levene  0.393242  0.532058       True\n"
     ]
    }
   ],
   "source": [
    "print(levene_cn)\n",
    "print(levene_ch)\n",
    "print(levene_lc)\n",
    "print(levene_mt)"
   ]
  },
  {
   "cell_type": "code",
   "execution_count": 45,
   "id": "414990ee-e26a-4ba9-a9d8-311d24cb6dcf",
   "metadata": {},
   "outputs": [
    {
     "name": "stdout",
     "output_type": "stream",
     "text": [
      "F_onewayResult(statistic=1.4059487205918506, pvalue=0.23859712699418548)\n",
      "F_onewayResult(statistic=0.8505930380634759, pvalue=0.3586496509475542)\n",
      "F_onewayResult(statistic=0.38664485140164734, pvalue=0.5355122054886466)\n",
      "F_onewayResult(statistic=0.13190054234860812, pvalue=0.7172517794431073)\n"
     ]
    }
   ],
   "source": [
    "print(stats.f_oneway(AMOSTRA_ENEM['NU_NOTA_CN'][AMOSTRA_ENEM['TP_SEXO'] == 'M'],\n",
    "               AMOSTRA_ENEM['NU_NOTA_CN'][AMOSTRA_ENEM['TP_SEXO'] == 'F']))\n",
    "print(stats.f_oneway(AMOSTRA_ENEM['NU_NOTA_MT'][AMOSTRA_ENEM['TP_SEXO'] == 'M'],\n",
    "               AMOSTRA_ENEM['NU_NOTA_MT'][AMOSTRA_ENEM['TP_SEXO'] == 'F']))\n",
    "print(stats.f_oneway(AMOSTRA_ENEM['NU_NOTA_LC'][AMOSTRA_ENEM['TP_SEXO'] == 'M'],\n",
    "               AMOSTRA_ENEM['NU_NOTA_LC'][AMOSTRA_ENEM['TP_SEXO'] == 'F']))\n",
    "print(stats.f_oneway(AMOSTRA_ENEM['NU_NOTA_CH'][AMOSTRA_ENEM['TP_SEXO'] == 'M'],\n",
    "               AMOSTRA_ENEM['NU_NOTA_CH'][AMOSTRA_ENEM['TP_SEXO'] == 'F']))\n"
   ]
  },
  {
   "cell_type": "markdown",
   "id": "2adddbae-a6b6-4312-8873-c5bf0edbe349",
   "metadata": {},
   "source": [
    "<div style=\"text-align: justify\"> \n",
    "Pelo resultado do teste ANOVA, verificou-se que não há diferença nas medias entre os alunos do sexo e feminino e masculino nas notas da prova de ciências da natureza, ciencias humanas e linguagens e códigos. Porém, há indicios de que as notas de matematica apresentam diferenças entre das notas dos alunos do sexo masculino e feminino. \n",
    "</div>"
   ]
  },
  {
   "cell_type": "code",
   "execution_count": 46,
   "id": "6c6767fc-5b0a-4d8f-8b59-cca7741f38f4",
   "metadata": {},
   "outputs": [],
   "source": [
    "from matplotlib import pyplot as plt"
   ]
  },
  {
   "cell_type": "markdown",
   "id": "2e4f50b5-6433-4106-bfa8-cc46a9b5d1fc",
   "metadata": {},
   "source": [
    "## Análise por sexo baseado por tipo da escola"
   ]
  },
  {
   "cell_type": "markdown",
   "id": "f7a9ffae-8a12-45d0-a37b-4309c70dee95",
   "metadata": {},
   "source": [
    "### Escola privada"
   ]
  },
  {
   "cell_type": "markdown",
   "id": "5e5eb336-52a4-4fe0-bf47-20582297885e",
   "metadata": {},
   "source": [
    "Será selecionada uma amostra com 100 notas de alunos oriundos de escolas particulares para assim, compararmos as notas por sexo.\n",
    "Os resultados apontam uma variabilidade das notas menor dos alunos de escola publica. Isso me causou surpresa pois imaginei inicialmente que a variabilidade seria menor para os alunos de escola privada."
   ]
  },
  {
   "cell_type": "code",
   "execution_count": 47,
   "id": "b878c699-d0da-494b-bdbe-666422b332f4",
   "metadata": {},
   "outputs": [],
   "source": [
    "PARTIC_ENEM_2019_PRIV = PARTIC_ENEM_2019[(PARTIC_ENEM_2019[\"TP_ESCOLA\"] == 3)]"
   ]
  },
  {
   "cell_type": "code",
   "execution_count": 48,
   "id": "0586af08-d40c-4171-ba9e-f1ea95c3b94a",
   "metadata": {},
   "outputs": [],
   "source": [
    "AMOSTRA_PRIV = PARTIC_ENEM_2019_PRIV.sample(n = 100)"
   ]
  },
  {
   "cell_type": "code",
   "execution_count": 49,
   "id": "23fe5817-3a44-4500-b390-bf15ae6d73fa",
   "metadata": {},
   "outputs": [],
   "source": [
    "levene_cn_priv = pg.homoscedasticity(AMOSTRA_PRIV, dv=\"NU_NOTA_CN\", group=\"TP_SEXO\", method='levene', alpha=0.05)\n",
    "levene_ch_priv = pg.homoscedasticity(AMOSTRA_PRIV, dv=\"NU_NOTA_CH\", group=\"TP_SEXO\", method='levene', alpha=0.05)\n",
    "levene_lc_priv = pg.homoscedasticity(AMOSTRA_PRIV, dv=\"NU_NOTA_LC\", group=\"TP_SEXO\", method='levene', alpha=0.05)\n",
    "levene_mt_priv = pg.homoscedasticity(AMOSTRA_PRIV, dv=\"NU_NOTA_MT\", group=\"TP_SEXO\", method='levene', alpha=0.05)"
   ]
  },
  {
   "cell_type": "code",
   "execution_count": 50,
   "id": "4413001f-8137-4359-a285-c3db186bb969",
   "metadata": {},
   "outputs": [
    {
     "name": "stdout",
     "output_type": "stream",
     "text": [
      "               W      pval  equal_var\n",
      "levene  1.999745  0.160495       True\n",
      "               W      pval  equal_var\n",
      "levene  1.853429  0.176507       True\n",
      "               W      pval  equal_var\n",
      "levene  0.000921  0.975853       True\n",
      "               W     pval  equal_var\n",
      "levene  0.330948  0.56642       True\n"
     ]
    }
   ],
   "source": [
    "print(levene_cn_priv)\n",
    "print(levene_ch_priv)\n",
    "print(levene_lc_priv)\n",
    "print(levene_mt_priv)"
   ]
  },
  {
   "cell_type": "code",
   "execution_count": 51,
   "id": "d7c747c3-3856-42f2-a4a2-0e74484398ed",
   "metadata": {},
   "outputs": [
    {
     "name": "stdout",
     "output_type": "stream",
     "text": [
      "F_onewayResult(statistic=0.09494273795066208, pvalue=0.7586390604014412)\n",
      "F_onewayResult(statistic=2.052601433493837, pvalue=0.15512863478531666)\n",
      "F_onewayResult(statistic=0.539239783075563, pvalue=0.4645013546905038)\n",
      "F_onewayResult(statistic=0.9418625762344104, pvalue=0.3341885068496463)\n"
     ]
    }
   ],
   "source": [
    "print(stats.f_oneway(AMOSTRA_PRIV['NU_NOTA_CN'][AMOSTRA_PRIV['TP_SEXO'] == 'M'],\n",
    "               AMOSTRA_PRIV['NU_NOTA_CN'][AMOSTRA_PRIV['TP_SEXO'] == 'F']))\n",
    "print(stats.f_oneway(AMOSTRA_PRIV['NU_NOTA_MT'][AMOSTRA_PRIV['TP_SEXO'] == 'M'],\n",
    "               AMOSTRA_PRIV['NU_NOTA_MT'][AMOSTRA_PRIV['TP_SEXO'] == 'F']))\n",
    "print(stats.f_oneway(AMOSTRA_PRIV['NU_NOTA_LC'][AMOSTRA_PRIV['TP_SEXO'] == 'M'],\n",
    "               AMOSTRA_PRIV['NU_NOTA_LC'][AMOSTRA_PRIV['TP_SEXO'] == 'F']))\n",
    "print(stats.f_oneway(AMOSTRA_PRIV['NU_NOTA_CH'][AMOSTRA_PRIV['TP_SEXO'] == 'M'],\n",
    "               AMOSTRA_PRIV['NU_NOTA_CH'][AMOSTRA_PRIV['TP_SEXO'] == 'F']))"
   ]
  },
  {
   "cell_type": "markdown",
   "id": "190295a8-ca9c-42f8-ad90-e096076fc0c6",
   "metadata": {},
   "source": [
    "### Escola pública"
   ]
  },
  {
   "cell_type": "code",
   "execution_count": 52,
   "id": "bef31559-05a2-4e3a-b4e5-cf59a4739dd2",
   "metadata": {},
   "outputs": [],
   "source": [
    "PARTIC_ENEM_2019_PUB = PARTIC_ENEM_2019[(PARTIC_ENEM_2019[\"TP_ESCOLA\"] == 2)]"
   ]
  },
  {
   "cell_type": "code",
   "execution_count": 53,
   "id": "f77a97c4-c41a-4c1d-87a2-7e559b8a6ea5",
   "metadata": {},
   "outputs": [],
   "source": [
    "AMOSTRA_PUB = PARTIC_ENEM_2019_PUB.sample(n = 100)"
   ]
  },
  {
   "cell_type": "code",
   "execution_count": 54,
   "id": "81cace7a-69bb-442b-acd6-9062e52ef026",
   "metadata": {},
   "outputs": [],
   "source": [
    "levene_cn_pub = pg.homoscedasticity(AMOSTRA_PUB, dv=\"NU_NOTA_CN\", group=\"TP_SEXO\", method='levene', alpha=0.05)\n",
    "levene_ch_pub = pg.homoscedasticity(AMOSTRA_PUB, dv=\"NU_NOTA_CH\", group=\"TP_SEXO\", method='levene', alpha=0.05)\n",
    "levene_lc_pub = pg.homoscedasticity(AMOSTRA_PUB, dv=\"NU_NOTA_LC\", group=\"TP_SEXO\", method='levene', alpha=0.05)\n",
    "levene_mt_pub = pg.homoscedasticity(AMOSTRA_PUB, dv=\"NU_NOTA_MT\", group=\"TP_SEXO\", method='levene', alpha=0.05)"
   ]
  },
  {
   "cell_type": "code",
   "execution_count": 55,
   "id": "d07a9dc4-8dc3-460f-81dd-be187fdf8a08",
   "metadata": {},
   "outputs": [
    {
     "name": "stdout",
     "output_type": "stream",
     "text": [
      "               W      pval  equal_var\n",
      "levene  0.025449  0.873581       True\n",
      "               W      pval  equal_var\n",
      "levene  1.023265  0.314237       True\n",
      "               W      pval  equal_var\n",
      "levene  0.082736  0.774231       True\n",
      "               W      pval  equal_var\n",
      "levene  1.114848  0.293627       True\n"
     ]
    }
   ],
   "source": [
    "print(levene_cn_pub)\n",
    "print(levene_ch_pub)\n",
    "print(levene_lc_pub)\n",
    "print(levene_mt_pub)"
   ]
  },
  {
   "cell_type": "code",
   "execution_count": 56,
   "id": "36f5d4cb-e91d-49e1-8650-22ccb2e8b6e5",
   "metadata": {},
   "outputs": [
    {
     "name": "stdout",
     "output_type": "stream",
     "text": [
      "F_onewayResult(statistic=2.492920008972987, pvalue=0.11758187073909375)\n",
      "F_onewayResult(statistic=4.148807236280387, pvalue=0.044360597877130786)\n",
      "F_onewayResult(statistic=0.5018516758189527, pvalue=0.48036930827602475)\n",
      "F_onewayResult(statistic=2.7109789079954445, pvalue=0.10286310667247454)\n"
     ]
    }
   ],
   "source": [
    "print(stats.f_oneway(AMOSTRA_PUB['NU_NOTA_CN'][AMOSTRA_PUB['TP_SEXO'] == 'M'],\n",
    "               AMOSTRA_PUB['NU_NOTA_CN'][AMOSTRA_PUB['TP_SEXO'] == 'F']))\n",
    "print(stats.f_oneway(AMOSTRA_PUB['NU_NOTA_MT'][AMOSTRA_PUB['TP_SEXO'] == 'M'],\n",
    "               AMOSTRA_PUB['NU_NOTA_MT'][AMOSTRA_PUB['TP_SEXO'] == 'F']))\n",
    "print(stats.f_oneway(AMOSTRA_PUB['NU_NOTA_LC'][AMOSTRA_PUB['TP_SEXO'] == 'M'],\n",
    "               AMOSTRA_PUB['NU_NOTA_LC'][AMOSTRA_PUB['TP_SEXO'] == 'F']))\n",
    "print(stats.f_oneway(AMOSTRA_PUB['NU_NOTA_CH'][AMOSTRA_PUB['TP_SEXO'] == 'M'],\n",
    "               AMOSTRA_PUB['NU_NOTA_CH'][AMOSTRA_PUB['TP_SEXO'] == 'F']))\n"
   ]
  },
  {
   "cell_type": "code",
   "execution_count": 57,
   "id": "a18f2d68-7a67-4bc8-9ea4-a26d055bb579",
   "metadata": {},
   "outputs": [
    {
     "data": {
      "image/png": "[encoded data removed]",
      "text/plain": [
       "<Figure size 1800x1080 with 12 Axes>"
      ]
     },
     "metadata": {
      "needs_background": "light"
     },
     "output_type": "display_data"
    }
   ],
   "source": [
    "fig_tot, axes = plt.subplots(3, 4, figsize=(25, 15), sharey=True)\n",
    "fig_tot.suptitle('Notas - Desempenho por Sexo e por tipo de escola', fontsize = 16)\n",
    "\n",
    "plt_cn_priv = sns.boxplot(ax= axes[0,0], x='TP_SEXO', y='NU_NOTA_CN', data=AMOSTRA_PRIV, order=('M','F'))\n",
    "plt_cn_priv.set_title('Ciências da Natureza - priv', fontsize = 12)\n",
    "plt_cn_priv.set(xlabel='Sexo', ylabel = 'Notas')\n",
    "axes[0,0]\n",
    "\n",
    "plt_ch_priv = sns.boxplot(ax= axes[0,1], x='TP_SEXO', y='NU_NOTA_CH', data=AMOSTRA_PRIV, order=('M','F'))\n",
    "plt_ch_priv.set_title('Ciências Humanas - priv', fontsize = 12)\n",
    "plt_ch_priv.set(xlabel='Sexo', ylabel = '')\n",
    "axes[0,1]\n",
    "\n",
    "plt_lc_priv = sns.boxplot(ax= axes[0,2], x='TP_SEXO', y='NU_NOTA_LC', data=AMOSTRA_PRIV, order=('M','F'))\n",
    "plt_lc_priv.set(xlabel='Sexo', ylabel = '')\n",
    "plt_lc_priv.set_title('Linguagens e códigos- priv', fontsize = 12)\n",
    "axes[0,2]\n",
    "\n",
    "plt_mt_priv = sns.boxplot(ax= axes[0,3], x='TP_SEXO', y='NU_NOTA_MT', data=AMOSTRA_PRIV, order=('M','F'))\n",
    "plt_mt_priv.set(xlabel='Sexo', ylabel = '')\n",
    "plt_mt_priv.set_title('Matemática - priv', fontsize = 12)\n",
    "axes[0,3]\n",
    "\n",
    "plt_cn_pub = sns.boxplot(ax= axes[1,0], x='TP_SEXO', y='NU_NOTA_CN', data=AMOSTRA_PUB, order=('M','F'))\n",
    "plt_cn_pub.set_title('Ciências da Natureza - pub', fontsize = 12)\n",
    "plt_cn_pub.set(xlabel='Sexo', ylabel = 'Notas')\n",
    "axes[1,0]\n",
    "\n",
    "plt_ch_pub = sns.boxplot(ax= axes[1,1], x='TP_SEXO', y='NU_NOTA_CH', data=AMOSTRA_PUB, order=('M','F'))\n",
    "plt_ch_pub.set_title('Ciências Humanas - pub', fontsize = 12)\n",
    "plt_ch_pub.set(xlabel='Sexo', ylabel = '')\n",
    "axes[1,1]\n",
    "\n",
    "plt_lc_pub = sns.boxplot(ax= axes[1,2], x='TP_SEXO', y='NU_NOTA_LC', data=AMOSTRA_PUB, order=('M','F'))\n",
    "plt_lc_pub.set(xlabel='Sexo', ylabel = '')\n",
    "plt_lc_pub.set_title('Linguagens e códigos- pub', fontsize = 12)\n",
    "axes[1,2]\n",
    "\n",
    "plt_mt_pub = sns.boxplot(ax= axes[1,3], x='TP_SEXO', y='NU_NOTA_MT', data=AMOSTRA_PUB, order=('M','F'))\n",
    "plt_mt_pub.set(xlabel='Sexo', ylabel = '')\n",
    "plt_mt_pub.set_title('Matemática - pub', fontsize = 12)\n",
    "axes[1,3]\n",
    "\n",
    "plt_cn = sns.boxplot(ax= axes[2,0], x='TP_SEXO', y='NU_NOTA_CN', data=AMOSTRA_ENEM, order=('M','F'))\n",
    "plt_cn.set(xlabel='Sexo', ylabel = '')\n",
    "plt_cn.set_title('Ciencia da natureza - Tot', fontsize = 12)\n",
    "axes[2,0]\n",
    "\n",
    "plt_ch = sns.boxplot(ax= axes[2,1], x='TP_SEXO', y='NU_NOTA_CH', data=AMOSTRA_ENEM, order=('M','F'))\n",
    "plt_ch.set_title('Ciências Humanas - tot', fontsize = 12)\n",
    "plt_ch.set(xlabel='Sexo', ylabel = '')\n",
    "axes[2,1]\n",
    "\n",
    "plt_lc = sns.boxplot(ax= axes[2,2], x='TP_SEXO', y='NU_NOTA_LC', data=AMOSTRA_ENEM, order=('M','F'))\n",
    "plt_lc.set(xlabel='Sexo', ylabel = '')\n",
    "plt_lc.set_title('Linguagens e códigos - tot', fontsize = 12)\n",
    "axes[2,2]\n",
    "\n",
    "plt_mt = sns.boxplot(ax= axes[2,3], x='TP_SEXO', y='NU_NOTA_MT', data=AMOSTRA_ENEM, order=('M','F'))\n",
    "plt_mt.set(xlabel='Sexo', ylabel = '')\n",
    "plt_mt.set_title('Matemática - tot', fontsize = 12)\n",
    "axes[2,3]\n",
    "\n",
    "fig_tot.savefig('fig_tot.jpeg')"
   ]
  },
  {
   "cell_type": "markdown",
   "id": "92242788-e0e5-4521-b27d-dfaefed693eb",
   "metadata": {},
   "source": [
    "Nesta analise comparando o desempenho da escola publica com a escola privada pelo sexo, com o objetivo de verificar o desempenho de cada sexo pelo tipo de escola, verificou-se que tanto na escola publica quanto na escola privada alunos do sexo feminino e masculino apresentam o mesmo desempenho. A analise foi feita com um nivel de confiança de 95% baseado nos testes ANOVA e de levene. As medidas de pvalor não apresentaram resultados inferiores à 5%. Além disso, pela comparação dos box-plots é possível identificar o desempenho semelhantes de cada grupo. "
   ]
  },
  {
   "cell_type": "markdown",
   "id": "6277b9f6-242b-45db-ba2d-dd1aed48e038",
   "metadata": {},
   "source": [
    "### Analise exclusiva por tipo de escola."
   ]
  },
  {
   "cell_type": "code",
   "execution_count": 58,
   "id": "d72dd0c1-a026-4f9a-9600-597c0a61a90c",
   "metadata": {},
   "outputs": [],
   "source": [
    "BASE_PRIV_PUB = pd.merge(PARTIC_ENEM_2019_PUB, PARTIC_ENEM_2019_PRIV, how = 'outer')"
   ]
  },
  {
   "cell_type": "code",
   "execution_count": 59,
   "id": "b6fcb32a-30db-4450-9d08-1bc22a4f913b",
   "metadata": {},
   "outputs": [],
   "source": [
    "AMOSTRA_PRIV_PUB = BASE_PRIV_PUB.sample(n = 100)"
   ]
  },
  {
   "cell_type": "code",
   "execution_count": 60,
   "id": "ce9a37a9-537e-4978-bfca-eb2dd58e7d12",
   "metadata": {},
   "outputs": [],
   "source": [
    "levene_cn_esc = pg.homoscedasticity(AMOSTRA_PRIV_PUB, dv=\"NU_NOTA_CN\", group=\"TP_ESCOLA\", method='levene', alpha=0.05)\n",
    "levene_ch_esc = pg.homoscedasticity(AMOSTRA_PRIV_PUB, dv=\"NU_NOTA_CH\", group=\"TP_ESCOLA\", method='levene', alpha=0.05)\n",
    "levene_lc_esc = pg.homoscedasticity(AMOSTRA_PRIV_PUB, dv=\"NU_NOTA_LC\", group=\"TP_ESCOLA\", method='levene', alpha=0.05)\n",
    "levene_mt_esc = pg.homoscedasticity(AMOSTRA_PRIV_PUB, dv=\"NU_NOTA_MT\", group=\"TP_ESCOLA\", method='levene', alpha=0.05)"
   ]
  },
  {
   "cell_type": "code",
   "execution_count": 61,
   "id": "f2e9f119-49ad-4cfd-b9e7-43d5a5e0f29e",
   "metadata": {},
   "outputs": [
    {
     "name": "stdout",
     "output_type": "stream",
     "text": [
      "               W      pval  equal_var\n",
      "levene  0.140847  0.708252       True\n",
      "               W      pval  equal_var\n",
      "levene  0.500221  0.481081       True\n",
      "               W      pval  equal_var\n",
      "levene  0.404696  0.526157       True\n",
      "               W      pval  equal_var\n",
      "levene  0.387729  0.534942       True\n"
     ]
    }
   ],
   "source": [
    "print(levene_cn_esc)\n",
    "print(levene_ch_esc)\n",
    "print(levene_lc_esc)\n",
    "print(levene_mt_esc)"
   ]
  },
  {
   "cell_type": "code",
   "execution_count": 62,
   "id": "2a68b2b4-f9fe-4c15-bcdb-7c7a844f23c8",
   "metadata": {},
   "outputs": [
    {
     "name": "stdout",
     "output_type": "stream",
     "text": [
      "F_onewayResult(statistic=23.50060860224381, pvalue=4.6897354746719765e-06)\n",
      "F_onewayResult(statistic=21.180528204534664, pvalue=1.2536108150687766e-05)\n",
      "F_onewayResult(statistic=12.039334579951014, pvalue=0.0007758758313850668)\n",
      "F_onewayResult(statistic=24.27162281341181, pvalue=3.3992494660014646e-06)\n"
     ]
    }
   ],
   "source": [
    "print(stats.f_oneway(AMOSTRA_PRIV_PUB['NU_NOTA_CN'][AMOSTRA_PRIV_PUB['TP_ESCOLA'] == 2],\n",
    "                AMOSTRA_PRIV_PUB['NU_NOTA_CN'][AMOSTRA_PRIV_PUB['TP_ESCOLA'] == 3]))\n",
    "\n",
    "print(stats.f_oneway(AMOSTRA_PRIV_PUB['NU_NOTA_MT'][AMOSTRA_PRIV_PUB['TP_ESCOLA'] == 2],\n",
    "                AMOSTRA_PRIV_PUB['NU_NOTA_MT'][AMOSTRA_PRIV_PUB['TP_ESCOLA'] == 3]))\n",
    "\n",
    "print(stats.f_oneway(AMOSTRA_PRIV_PUB['NU_NOTA_LC'][AMOSTRA_PRIV_PUB['TP_ESCOLA'] == 2],\n",
    "                      AMOSTRA_PRIV_PUB['NU_NOTA_LC'][AMOSTRA_PRIV_PUB['TP_ESCOLA'] == 3]))\n",
    "\n",
    "print(stats.f_oneway(AMOSTRA_PRIV_PUB['NU_NOTA_CH'][AMOSTRA_PRIV_PUB['TP_ESCOLA'] == 2],\n",
    "                AMOSTRA_PRIV_PUB['NU_NOTA_CH'][AMOSTRA_PRIV_PUB['TP_ESCOLA'] == 3]))  \n"
   ]
  },
  {
   "cell_type": "code",
   "execution_count": 63,
   "id": "089ad032-5e6a-49a1-9ffe-3b5278f19784",
   "metadata": {},
   "outputs": [
    {
     "data": {
      "image/png": "[encoded data removed]",
      "text/plain": [
       "<Figure size 1440x720 with 4 Axes>"
      ]
     },
     "metadata": {
      "needs_background": "light"
     },
     "output_type": "display_data"
    }
   ],
   "source": [
    "fig_esc, axes = plt.subplots(1, 4, figsize=(20, 10), sharey=True)\n",
    "fig_esc.suptitle('Notas - Desempenho ppor tipo de escola', fontsize = 16)\n",
    "\n",
    "plt_cn_esc = sns.boxplot(ax= axes[0], x='TP_ESCOLA', y='NU_NOTA_CN', data=AMOSTRA_PRIV_PUB)\n",
    "plt_cn_esc.set_title('Ciências da Natureza', fontsize = 12)\n",
    "plt_cn_esc.set(xlabel='Tipo de escola', ylabel = 'Notas')\n",
    "axes[0]\n",
    "\n",
    "plt_ch_esc = sns.boxplot(ax= axes[1], x='TP_ESCOLA', y='NU_NOTA_CH', data=AMOSTRA_PRIV_PUB)\n",
    "plt_ch_esc.set_title('Ciências Humanas', fontsize = 12)\n",
    "plt_ch_esc.set(xlabel='Tipo de escola', ylabel = '')\n",
    "axes[1]\n",
    "\n",
    "plt_lc_esc = sns.boxplot(ax= axes[2], x='TP_ESCOLA', y='NU_NOTA_LC', data=AMOSTRA_PRIV_PUB)\n",
    "plt_lc_esc.set(xlabel='Tipo de escola', ylabel = '')\n",
    "plt_lc_esc.set_title('Linguagens e códigos', fontsize = 12)\n",
    "axes[2]\n",
    "\n",
    "plt_mt_esc = sns.boxplot(ax= axes[3], x='TP_ESCOLA', y='NU_NOTA_MT', data=AMOSTRA_PRIV_PUB)\n",
    "plt_mt_esc.set(xlabel='Tipo de escola', ylabel = '')\n",
    "plt_mt_esc.set_title('Matemática', fontsize = 12)\n",
    "axes[3]\n",
    "\n",
    "fig_esc.savefig('fig_esc.jpeg')"
   ]
  },
  {
   "cell_type": "markdown",
   "id": "dd7fddb2-a8ca-4788-9d28-650991e8655d",
   "metadata": {},
   "source": [
    "Conforme evidenciado tanto no teste anova quanto até mesmo na analise dos box-plots, as médias apresentadas nas escolas privadas são diferentes das médias obtidas nas escolas publicas. O pvalor apresentado no anova foi inferior a 5% em todas as provas, demonstrando que a media das escolas privadas são diferentes das obtidas na escola publica. Na analise grafica é possóvel identicar que as notas das escolas privadas são superiores.  "
   ]
  },
  {
   "cell_type": "markdown",
   "id": "889fc15b-bd61-4aa9-8ba5-db5974ab9439",
   "metadata": {},
   "source": []
  },
  {
   "cell_type": "markdown",
   "id": "736df8d4-b26b-4401-8026-f61ba62391d6",
   "metadata": {},
   "source": []
  }
 ],
 "metadata": {
  "kernelspec": {
   "display_name": "Python 3",
   "language": "python",
   "name": "python3"
  },
  "language_info": {
   "codemirror_mode": {
    "name": "ipython",
    "version": 3
   },
   "file_extension": ".py",
   "mimetype": "text/x-python",
   "name": "python",
   "nbconvert_exporter": "python",
   "pygments_lexer": "ipython3",
   "version": "3.8.8"
  }
 },
 "nbformat": 4,
 "nbformat_minor": 5
}
